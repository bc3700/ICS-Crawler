{
 "cells": [
  {
   "cell_type": "markdown",
   "metadata": {},
   "source": [
    "# Data Analysis of ICS Advisories\n",
    "#### Brandon Cooper, Capstone Project\n",
    "\n",
    "The data gathered was obtained by webscrabing the ICS advisories published on CISA website (https://www.us-cert.gov/ics/advisories)"
   ]
  },
  {
   "cell_type": "markdown",
   "metadata": {},
   "source": [
    "## Goal of the Analysis\n",
    "\n",
    "The purpose of this analysis is to provide insight into patterns of vulnerabilities that pertain to ICS. Specifically I wish to answer the following questions:\n",
    "\n",
    "- Q1: What are the most common vulnerabilities in ICS?\n",
    "- Q2: What CWEs are most commonly attributed in ICS?\n",
    "- Q3: What sectors are most affected by these vulnerabiltiies in ICS?\n",
    "- Q4: What is the trend of the number of published ICS advisories over time?\n",
    "- Q5: Is any ICS vendor more suceptible to vulnerabilities?"
   ]
  },
  {
   "cell_type": "markdown",
   "metadata": {},
   "source": [
    "### The information is stored in a database and will be stored in a dataframe using the pandas library for data analysis"
   ]
  },
  {
   "cell_type": "code",
   "execution_count": 127,
   "metadata": {},
   "outputs": [
    {
     "data": {
      "text/html": [
       "<div>\n",
       "<style scoped>\n",
       "    .dataframe tbody tr th:only-of-type {\n",
       "        vertical-align: middle;\n",
       "    }\n",
       "\n",
       "    .dataframe tbody tr th {\n",
       "        vertical-align: top;\n",
       "    }\n",
       "\n",
       "    .dataframe thead th {\n",
       "        text-align: right;\n",
       "    }\n",
       "</style>\n",
       "<table border=\"1\" class=\"dataframe\">\n",
       "  <thead>\n",
       "    <tr style=\"text-align: right;\">\n",
       "      <th></th>\n",
       "      <th>icsa_id</th>\n",
       "      <th>full_page_url</th>\n",
       "      <th>crawl_date</th>\n",
       "      <th>content</th>\n",
       "      <th>releaseDate</th>\n",
       "      <th>lastRevisedDate</th>\n",
       "      <th>vendor</th>\n",
       "      <th>equipment</th>\n",
       "      <th>vulnerability</th>\n",
       "      <th>sector</th>\n",
       "      <th>deployed</th>\n",
       "      <th>headquarters</th>\n",
       "      <th>cweList</th>\n",
       "      <th>cveList</th>\n",
       "    </tr>\n",
       "  </thead>\n",
       "  <tbody>\n",
       "    <tr>\n",
       "      <th>0</th>\n",
       "      <td>ICSA-20-105-02</td>\n",
       "      <td>https://www.us-cert.gov/ics/advisories/icsa-20...</td>\n",
       "      <td>2020-04-15</td>\n",
       "      <td>&lt;!DOCTYPE html&gt;\\n&lt;html  lang=\"en\" dir=\"ltr\" pr...</td>\n",
       "      <td>2020-04-14 00:00:00</td>\n",
       "      <td>None</td>\n",
       "      <td>Triangle MicroWorks</td>\n",
       "      <td>DNP3 Outstation Libraries</td>\n",
       "      <td>Stacked-based Buffer Overflow</td>\n",
       "      <td>Critical Manufacturing</td>\n",
       "      <td>Worldwide</td>\n",
       "      <td>United States</td>\n",
       "      <td>CWE-121,</td>\n",
       "      <td>CVE-2020-6996,</td>\n",
       "    </tr>\n",
       "    <tr>\n",
       "      <th>1</th>\n",
       "      <td>ICSA-20-105-03</td>\n",
       "      <td>https://www.us-cert.gov/ics/advisories/icsa-20...</td>\n",
       "      <td>2020-04-15</td>\n",
       "      <td>&lt;!DOCTYPE html&gt;\\n&lt;html  lang=\"en\" dir=\"ltr\" pr...</td>\n",
       "      <td>2020-04-14 00:00:00</td>\n",
       "      <td>None</td>\n",
       "      <td>Triangle MicroWorks</td>\n",
       "      <td>SCADA Data Gateway</td>\n",
       "      <td>Stacked-based Buffer Overflow, Out-of-Bounds R...</td>\n",
       "      <td>Critical Manufacturing</td>\n",
       "      <td>Worldwide</td>\n",
       "      <td>United States</td>\n",
       "      <td>CWE-843,CWE-121,CWE-125,</td>\n",
       "      <td>CVE-2020-10611,CVE-2020-10615,CVE-2020-10613,</td>\n",
       "    </tr>\n",
       "    <tr>\n",
       "      <th>2</th>\n",
       "      <td>ICSA-20-105-04</td>\n",
       "      <td>https://www.us-cert.gov/ics/advisories/icsa-20...</td>\n",
       "      <td>2020-04-15</td>\n",
       "      <td>&lt;!DOCTYPE html&gt;\\n&lt;html  lang=\"en\" dir=\"ltr\" pr...</td>\n",
       "      <td>2020-04-14 00:00:00</td>\n",
       "      <td>None</td>\n",
       "      <td>Siemens</td>\n",
       "      <td>Climatix</td>\n",
       "      <td>Cross-site Scripting, Basic XSS</td>\n",
       "      <td>Commercial Facilities</td>\n",
       "      <td>Worldwide</td>\n",
       "      <td>Germany</td>\n",
       "      <td>CWE-79,CWE-80,</td>\n",
       "      <td>CVE-2020-7574,CVE-2020-7575,</td>\n",
       "    </tr>\n",
       "    <tr>\n",
       "      <th>3</th>\n",
       "      <td>ICSA-20-105-06</td>\n",
       "      <td>https://www.us-cert.gov/ics/advisories/icsa-20...</td>\n",
       "      <td>2020-04-15</td>\n",
       "      <td>&lt;!DOCTYPE html&gt;\\n&lt;html  lang=\"en\" dir=\"ltr\" pr...</td>\n",
       "      <td>2020-04-14 00:00:00</td>\n",
       "      <td>None</td>\n",
       "      <td>Siemens</td>\n",
       "      <td>SIMOTICS, Desigo, APOGEE, and TALON</td>\n",
       "      <td>Business Logic Errors</td>\n",
       "      <td>Chemical, Critical Manufacturing, Energy, Foo...</td>\n",
       "      <td>Worldwide</td>\n",
       "      <td>Germany</td>\n",
       "      <td>CWE-840,</td>\n",
       "      <td>CVE-2019-13939,</td>\n",
       "    </tr>\n",
       "    <tr>\n",
       "      <th>4</th>\n",
       "      <td>ICSA-20-105-07</td>\n",
       "      <td>https://www.us-cert.gov/ics/advisories/icsa-20...</td>\n",
       "      <td>2020-04-15</td>\n",
       "      <td>&lt;!DOCTYPE html&gt;\\n&lt;html  lang=\"en\" dir=\"ltr\" pr...</td>\n",
       "      <td>2020-04-14 00:00:00</td>\n",
       "      <td>None</td>\n",
       "      <td>Siemens</td>\n",
       "      <td>SCALANCE, SIMATIC</td>\n",
       "      <td>Resource Exhaustion</td>\n",
       "      <td>Critical Manufacturing</td>\n",
       "      <td>Worldwide</td>\n",
       "      <td>Germany</td>\n",
       "      <td>CWE-400,</td>\n",
       "      <td>CVE-2019-19301,</td>\n",
       "    </tr>\n",
       "  </tbody>\n",
       "</table>\n",
       "</div>"
      ],
      "text/plain": [
       "          icsa_id                                      full_page_url  \\\n",
       "0  ICSA-20-105-02  https://www.us-cert.gov/ics/advisories/icsa-20...   \n",
       "1  ICSA-20-105-03  https://www.us-cert.gov/ics/advisories/icsa-20...   \n",
       "2  ICSA-20-105-04  https://www.us-cert.gov/ics/advisories/icsa-20...   \n",
       "3  ICSA-20-105-06  https://www.us-cert.gov/ics/advisories/icsa-20...   \n",
       "4  ICSA-20-105-07  https://www.us-cert.gov/ics/advisories/icsa-20...   \n",
       "\n",
       "   crawl_date                                            content  \\\n",
       "0  2020-04-15  <!DOCTYPE html>\\n<html  lang=\"en\" dir=\"ltr\" pr...   \n",
       "1  2020-04-15  <!DOCTYPE html>\\n<html  lang=\"en\" dir=\"ltr\" pr...   \n",
       "2  2020-04-15  <!DOCTYPE html>\\n<html  lang=\"en\" dir=\"ltr\" pr...   \n",
       "3  2020-04-15  <!DOCTYPE html>\\n<html  lang=\"en\" dir=\"ltr\" pr...   \n",
       "4  2020-04-15  <!DOCTYPE html>\\n<html  lang=\"en\" dir=\"ltr\" pr...   \n",
       "\n",
       "           releaseDate lastRevisedDate               vendor  \\\n",
       "0  2020-04-14 00:00:00            None  Triangle MicroWorks   \n",
       "1  2020-04-14 00:00:00            None  Triangle MicroWorks   \n",
       "2  2020-04-14 00:00:00            None              Siemens   \n",
       "3  2020-04-14 00:00:00            None              Siemens   \n",
       "4  2020-04-14 00:00:00            None              Siemens   \n",
       "\n",
       "                             equipment  \\\n",
       "0            DNP3 Outstation Libraries   \n",
       "1                   SCADA Data Gateway   \n",
       "2                             Climatix   \n",
       "3  SIMOTICS, Desigo, APOGEE, and TALON   \n",
       "4                    SCALANCE, SIMATIC   \n",
       "\n",
       "                                       vulnerability  \\\n",
       "0                      Stacked-based Buffer Overflow   \n",
       "1  Stacked-based Buffer Overflow, Out-of-Bounds R...   \n",
       "2                    Cross-site Scripting, Basic XSS   \n",
       "3                              Business Logic Errors   \n",
       "4                                Resource Exhaustion   \n",
       "\n",
       "                                              sector   deployed  \\\n",
       "0                             Critical Manufacturing  Worldwide   \n",
       "1                             Critical Manufacturing  Worldwide   \n",
       "2                              Commercial Facilities  Worldwide   \n",
       "3   Chemical, Critical Manufacturing, Energy, Foo...  Worldwide   \n",
       "4                             Critical Manufacturing  Worldwide   \n",
       "\n",
       "    headquarters                   cweList  \\\n",
       "0  United States                  CWE-121,   \n",
       "1  United States  CWE-843,CWE-121,CWE-125,   \n",
       "2        Germany            CWE-79,CWE-80,   \n",
       "3        Germany                  CWE-840,   \n",
       "4        Germany                  CWE-400,   \n",
       "\n",
       "                                         cveList  \n",
       "0                                 CVE-2020-6996,  \n",
       "1  CVE-2020-10611,CVE-2020-10615,CVE-2020-10613,  \n",
       "2                   CVE-2020-7574,CVE-2020-7575,  \n",
       "3                                CVE-2019-13939,  \n",
       "4                                CVE-2019-19301,  "
      ]
     },
     "execution_count": 127,
     "metadata": {},
     "output_type": "execute_result"
    }
   ],
   "source": [
    "import sqlite3\n",
    "import pandas as pd\n",
    "\n",
    "conn = sqlite3.connect(\"Full_ICSDatabase.db\")\n",
    "df = pd.read_sql_query(\"SELECT * FROM ICS;\", conn)\n",
    "df.head()"
   ]
  },
  {
   "cell_type": "markdown",
   "metadata": {},
   "source": [
    "### The first step is to determine the range of dates of the ICS Advisories as well as the number of entries"
   ]
  },
  {
   "cell_type": "code",
   "execution_count": 128,
   "metadata": {},
   "outputs": [
    {
     "name": "stdout",
     "output_type": "stream",
     "text": [
      "The first release date is: 2010-03-10 00:00:00\n",
      "The most recent release date: 2020-04-14 00:00:00\n",
      "\n",
      "The number of ICS Advisories is: 1319\n"
     ]
    }
   ],
   "source": [
    "print(\"The first release date is:\", df[\"releaseDate\"].min())\n",
    "print(\"The most recent release date:\", df[\"releaseDate\"].max())\n",
    "print()\n",
    "print(\"The number of ICS Advisories is:\", df.shape[0])"
   ]
  },
  {
   "cell_type": "markdown",
   "metadata": {},
   "source": [
    "### Next the data needs to be cleaned of any empty fields to have a clean dataset to work with\n",
    "\n",
    "Unfortunately, the older advisories did not adhere to the stard today of clearly listing information such as the vendor, equipment, etc. Therefore the dataset is cut in half by over 50%."
   ]
  },
  {
   "cell_type": "code",
   "execution_count": 129,
   "metadata": {},
   "outputs": [
    {
     "name": "stdout",
     "output_type": "stream",
     "text": [
      "The first release date after cleaning is: 2012-06-27 00:00:00\n",
      "The most recent release date after cleaning is: 2020-04-14 00:00:00\n",
      "\n",
      "The number of ICS Advisories after cleaning is: 597\n"
     ]
    }
   ],
   "source": [
    "#Cleans dataframe\n",
    "df = df[df[\"vendor\"] != \"\"]\n",
    "df = df[df[\"equipment\"] != \"\"]\n",
    "df = df[df[\"sector\"] != \"\"]\n",
    "df = df[df[\"deployed\"] != \"\"]\n",
    "df = df[df[\"headquarters\"] != \"\"]\n",
    "\n",
    "numEntries = df.shape[0]\n",
    "\n",
    "print(\"The first release date after cleaning is:\", df[\"releaseDate\"].min())\n",
    "print(\"The most recent release date after cleaning is:\", df[\"releaseDate\"].max())\n",
    "print()\n",
    "print(\"The number of ICS Advisories after cleaning is:\", numEntries)"
   ]
  },
  {
   "cell_type": "markdown",
   "metadata": {},
   "source": [
    "### Next we need a couple functions to determine counts of the various attributes"
   ]
  },
  {
   "cell_type": "code",
   "execution_count": 130,
   "metadata": {},
   "outputs": [],
   "source": [
    "from collections import Counter\n",
    "\n",
    "\n",
    "def countRows(columnString):\n",
    "    dict = {}\n",
    "    for row in df[columnString]:\n",
    "        if(row not in dict):\n",
    "            dict[row] = 1\n",
    "        else:\n",
    "            dict[row] += 1\n",
    "    return dict    \n",
    "\n",
    "def countRowsWithLists(columnString, delimeter):\n",
    "    dict = {}\n",
    "    for row in df[columnString]:\n",
    "        entryList = row.split(delimeter)\n",
    "        for entry in entryList:\n",
    "            entry = entry.strip()\n",
    "            if(entry == \" \" or entry == \"\"):\n",
    "                continue\n",
    "            elif(entry not in dict):\n",
    "                dict[entry] = 1\n",
    "            else:\n",
    "                dict[entry] += 1\n",
    "    return dict\n",
    "    \n",
    "def largestEntries(dict, numLargest):\n",
    "    counter = Counter(dict)\n",
    "    return counter.most_common(numLargest)   "
   ]
  },
  {
   "cell_type": "markdown",
   "metadata": {},
   "source": [
    "### Each attribute in the dataframe is counted and each unique value is a key in the dictionary, with the value being the count"
   ]
  },
  {
   "cell_type": "code",
   "execution_count": 131,
   "metadata": {},
   "outputs": [],
   "source": [
    "releaseDateDict = countRows(\"releaseDate\")\n",
    "vendorDict = countRows(\"vendor\")\n",
    "equipmentDict = countRows(\"equipment\")\n",
    "deployedDict = countRows(\"deployed\")\n",
    "headquartersDict = countRows(\"headquarters\")\n",
    "\n",
    "vulnerabilityDict = countRowsWithLists(\"vulnerability\", \",\")\n",
    "cweDict = countRowsWithLists(\"cweList\", \",\")\n",
    "sectorDict = countRowsWithLists(\"sector\", \",\")\n",
    "cveDict = countRowsWithLists(\"cveList\", \",\")"
   ]
  },
  {
   "cell_type": "markdown",
   "metadata": {},
   "source": [
    "### Next we determine the top X largest value of each attribute"
   ]
  },
  {
   "cell_type": "code",
   "execution_count": 132,
   "metadata": {},
   "outputs": [],
   "source": [
    "topReleaseDate = largestEntries(releaseDateDict, 15)\n",
    "topVendor = largestEntries(vendorDict, 10)\n",
    "topEquipment = largestEntries(equipmentDict, 15)\n",
    "topDeployed = largestEntries(deployedDict, 15)\n",
    "topHeadquarters = largestEntries(headquartersDict, 15)\n",
    "\n",
    "topVuln = largestEntries(vulnerabilityDict, 10)\n",
    "topCWE = largestEntries(cweDict, 15)\n",
    "topSector = largestEntries(sectorDict, 10)\n",
    "topCVE = largestEntries(cveDict, 15)"
   ]
  },
  {
   "cell_type": "code",
   "execution_count": 133,
   "metadata": {},
   "outputs": [
    {
     "name": "stdout",
     "output_type": "stream",
     "text": [
      "[('Stack-based Buffer Overflow', 74), ('Improper Input Validation', 71), ('Cross-site Scripting', 46), ('Improper Authentication', 43), ('Improper Access Control', 34), ('Heap-based Buffer Overflow', 29), ('Information Exposure', 27), ('Use of Hard-coded Credentials', 26), ('Missing Authentication for Critical Function', 25), ('Path Traversal', 24)]\n"
     ]
    }
   ],
   "source": [
    "print(topVuln)"
   ]
  },
  {
   "cell_type": "markdown",
   "metadata": {},
   "source": [
    "### The following function provides an easy way to create a graph of the top X largest values of an attribute"
   ]
  },
  {
   "cell_type": "code",
   "execution_count": 134,
   "metadata": {},
   "outputs": [],
   "source": [
    "import matplotlib.pyplot as plt\n",
    "import numpy as np\n",
    "\n",
    "def plotTupleList(tupleList, title, horizontal=True):    \n",
    "    if(horizontal):\n",
    "        tupleList = tupleList[::-1]\n",
    "        plt.barh(np.arange(len(tupleList)), [val[1] for val in tupleList], align='center', color='green')\n",
    "        plt.yticks(np.arange(len(tupleList)), [val[0] for val in tupleList], fontsize=14)\n",
    "        plt.xticks(fontsize=12)\n",
    "        \n",
    "    else:\n",
    "        plt.bar(range(len(tupleList)), [val[1] for val in tupleList], align='center', color='green')\n",
    "        plt.xticks(range(len(tupleList)), [val[0] for val in tupleList], rotation=75, fontsize=12) \n",
    "        plt.yticks(fontsize=12)\n",
    "    plt.title(title, fontsize=15, fontweight=\"bold\")\n",
    "    plt.show()"
   ]
  },
  {
   "cell_type": "markdown",
   "metadata": {},
   "source": [
    "## Q1\n",
    "### What are the most common vulnerabilities in ICS?\n",
    "\n",
    "To answer this question we simply plot the top vulnerabilities that were found during the webscraping. Based on the analysis and plot, the first top two vulnerabilities,\n",
    "\n",
    "- Stack-based Buffer Overflow\n",
    "- Improper Input Validation\n",
    "\n",
    "are found to be the largest by a wide margin. The next three vulnerabilities:\n",
    "\n",
    "- Improper Authentication\n",
    "- Cross-site Scripting\n",
    "- Improper Access Control\n",
    "\n",
    "are also large by a decent margin. The remaining 10 vulnerabilities that were plotted are all about even.\n",
    "\n",
    "At least one of thee top three vulnerabilities appear in 34.3% of all ICS advisories. "
   ]
  },
  {
   "cell_type": "code",
   "execution_count": 135,
   "metadata": {},
   "outputs": [
    {
     "data": {
      "image/png": "[encoded data removed]",
      "text/plain": [
       "<Figure size 432x288 with 1 Axes>"
      ]
     },
     "metadata": {
      "needs_background": "light"
     },
     "output_type": "display_data"
    }
   ],
   "source": [
    "plotTupleList(topVuln, \"Top Vulnerabilities that Appear in ICS Advisories\")"
   ]
  },
  {
   "cell_type": "code",
   "execution_count": 161,
   "metadata": {},
   "outputs": [
    {
     "name": "stdout",
     "output_type": "stream",
     "text": [
      "34.33835845896148 %\n"
     ]
    }
   ],
   "source": [
    "sum = 0\n",
    "for vuln in df[\"vulnerability\"]:\n",
    "    if(\"STACK-BASED BUFFER OVERFLOW\" in vuln.upper() or \"IMPROPER INPUT VALIDATION\" in vuln.upper() or \"CROSS-SITE SCRIPTING\" in vuln.upper()):\n",
    "        sum += 1\n",
    "print(sum/numEntries * 100, \"%\")"
   ]
  },
  {
   "cell_type": "markdown",
   "metadata": {},
   "source": [
    "## Q2\n",
    "### What CWEs are most commonly attributed in ICS?\n",
    "\n",
    "As expected the topCWE follows a similar pattern to the vulnerabilities as the two are inherently linked. Therefore the first two CWEs,\n",
    "\n",
    "- CWE-20 (Improper Input Validation - https://cwe.mitre.org/data/definitions/20.html)\n",
    "- CWE-121 (Stack Based Buffer Overflow - https://cwe.mitre.org/data/definitions/121.html)\n",
    "\n",
    "are the top two by a wide margin. The third CWE,\n",
    "\n",
    "- CWE-79 (Cross-site Scripting - https://cwe.mitre.org/data/definitions/79.html)\n",
    "\n",
    "is notable before the rest start to taper down in a linear like pattern. It is interesting to note that the order of the CWEs and the vulnerabilities attributed to an advisory to not follow the exact same pattern. However the top three CWEs line up with the top four vulnerabilities. \n",
    "\n",
    "Of the top three CWEs, at least one of them were listed in 41.5% of ICS Advisories. These three top CWEs are common in other domains as well. This indicates that many vulnerabilities in ICS share their root with other domains and are not specific to the industrial control aspect."
   ]
  },
  {
   "cell_type": "code",
   "execution_count": 137,
   "metadata": {},
   "outputs": [
    {
     "data": {
      "image/png": "[encoded data removed]",
      "text/plain": [
       "<Figure size 432x288 with 1 Axes>"
      ]
     },
     "metadata": {
      "needs_background": "light"
     },
     "output_type": "display_data"
    }
   ],
   "source": [
    "plotTupleList(topCWE, \"Top CWE that Appear in ICS Advisories\", False)"
   ]
  },
  {
   "cell_type": "code",
   "execution_count": 162,
   "metadata": {},
   "outputs": [
    {
     "name": "stdout",
     "output_type": "stream",
     "text": [
      "41.541038525963145 %\n"
     ]
    }
   ],
   "source": [
    "sum = 0\n",
    "for cwe in df[\"cweList\"]:\n",
    "    if(\"CWE-121\" in cwe or \"CWE-20\" in cwe or \"CWE-79\" in cwe):\n",
    "        sum += 1\n",
    "\n",
    "print(sum/numEntries * 100, \"%\")"
   ]
  },
  {
   "cell_type": "markdown",
   "metadata": {},
   "source": [
    "## Q3\n",
    "### What sectors are most affected by these vulnerabiltiies in ICS?\n",
    "\n",
    "This question is rather simple to answer based on the information extracted from the advisories. Each advisory states which sectors are effected. Based on the plot, both Critical Manufacturing and Energy are the most effected, which isn't too suprising. It is interesting to note that the Chemical sector is effected much less than the top two. \n",
    "\n",
    "Of the top two sectors, at least one of them is in 81.4% of all ICS advisories. This number may even be higher as some sectors are labeled as \"Multiple sectors\" which may include Critical Manufacturing or Energy."
   ]
  },
  {
   "cell_type": "code",
   "execution_count": 139,
   "metadata": {},
   "outputs": [
    {
     "data": {
      "image/png": "[encoded data removed]",
      "text/plain": [
       "<Figure size 432x288 with 1 Axes>"
      ]
     },
     "metadata": {
      "needs_background": "light"
     },
     "output_type": "display_data"
    }
   ],
   "source": [
    "plotTupleList(topSector, \"Top Sectors affected by ICS Advisory\")"
   ]
  },
  {
   "cell_type": "code",
   "execution_count": 163,
   "metadata": {},
   "outputs": [
    {
     "name": "stdout",
     "output_type": "stream",
     "text": [
      "81.4070351758794 %\n"
     ]
    }
   ],
   "source": [
    "sum = 0\n",
    "for sector in df[\"sector\"]:\n",
    "    if(\"CRITICAL MANUFACTURING\" in sector.upper() or \"ENERGY\" in sector.upper()):\n",
    "        sum += 1\n",
    "\n",
    "print(sum/numEntries * 100, \"%\")"
   ]
  },
  {
   "cell_type": "markdown",
   "metadata": {},
   "source": [
    "## Q4\n",
    "### What is the trend of the number of published ICS advisories over time?\n",
    "\n",
    "As stated prior, much of the dataset had to be cut due to the difference in formatting as well as lack of complete information. As such, entries in the dataset before 2017 are low or nonexistant. Therefore, only the 2016, 2017, 2018, 2019, and 2020 are displayed in the plot. With further enhancements to the webscraper or manual extraction, better information can be obtained for older years."
   ]
  },
  {
   "cell_type": "code",
   "execution_count": 141,
   "metadata": {},
   "outputs": [],
   "source": [
    "count2016 = 0\n",
    "count2017 = 0\n",
    "count2018 = 0\n",
    "count2019 = 0\n",
    "count2020 = 0\n",
    "for date in df[\"releaseDate\"]:\n",
    "    if(\"2016\" in date):\n",
    "        count2016 += 1\n",
    "    if(\"2017\" in date):\n",
    "        count2017 += 1\n",
    "    if(\"2018\" in date):\n",
    "        count2018 += 1\n",
    "    if(\"2019\" in date):\n",
    "        count2019 += 1\n",
    "    if(\"2020\" in date):\n",
    "        count2020 += 1\n",
    "        \n",
    "releaseDateCountList = [(\"2016\", count2016), \n",
    "                        (\"2017\", count2017), \n",
    "                        (\"2018\", count2018), \n",
    "                        (\"2019\", count2019), \n",
    "                        (\"2020\", count2020),]"
   ]
  },
  {
   "cell_type": "code",
   "execution_count": 142,
   "metadata": {},
   "outputs": [
    {
     "data": {
      "image/png": "[encoded data removed]",
      "text/plain": [
       "<Figure size 432x288 with 1 Axes>"
      ]
     },
     "metadata": {
      "needs_background": "light"
     },
     "output_type": "display_data"
    }
   ],
   "source": [
    "plotTupleList(releaseDateCountList, \"Count of ICS Advisories per Year\")"
   ]
  },
  {
   "cell_type": "markdown",
   "metadata": {},
   "source": [
    "## Q5\n",
    "### Is any ICS vendor more suceptible to vulnerabilities?\n",
    "\n",
    "Similar to Q3, Q5 is also easily answered based on the gathered data in the advisories as each advisory provides which vendor is affected by the vulnerability. Interestingly, Siemens appears the most in advisories by a large margin. This could indicate Siemens produces more vulnerable products, better report their vulnerabilities, or have more equipment in use. Whichever the case, more investigation is required before drawing a conclusion. \n",
    "\n",
    "Regardless, they appear in 24.8% of advisories, which along with the chart below, indicates that a wide range of vendors are mentioned in advisories, but each not in large amounts."
   ]
  },
  {
   "cell_type": "code",
   "execution_count": 145,
   "metadata": {},
   "outputs": [
    {
     "data": {
      "image/png": "[encoded data removed]",
      "text/plain": [
       "<Figure size 432x288 with 1 Axes>"
      ]
     },
     "metadata": {
      "needs_background": "light"
     },
     "output_type": "display_data"
    }
   ],
   "source": [
    "plotTupleList(topVendor, \"Top Vendors that Appear in ICS Advisories\")"
   ]
  },
  {
   "cell_type": "code",
   "execution_count": 164,
   "metadata": {},
   "outputs": [
    {
     "name": "stdout",
     "output_type": "stream",
     "text": [
      "24.79061976549414 %\n"
     ]
    }
   ],
   "source": [
    "sum = 0\n",
    "for vendor in df[\"vendor\"]:\n",
    "    if(\"SIEMENS\" in vendor.upper()):\n",
    "        sum += 1\n",
    "        \n",
    "print(sum/numEntries * 100, \"%\")"
   ]
  }
 ],
 "metadata": {
  "kernelspec": {
   "display_name": "Python 3",
   "language": "python",
   "name": "python3"
  },
  "language_info": {
   "codemirror_mode": {
    "name": "ipython",
    "version": 3
   },
   "file_extension": ".py",
   "mimetype": "text/x-python",
   "name": "python",
   "nbconvert_exporter": "python",
   "pygments_lexer": "ipython3",
   "version": "3.7.3"
  }
 },
 "nbformat": 4,
 "nbformat_minor": 2
}
